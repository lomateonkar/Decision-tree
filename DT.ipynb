{
 "cells": [
  {
   "cell_type": "code",
   "execution_count": 1,
   "id": "9a6f012a",
   "metadata": {},
   "outputs": [],
   "source": [
    "import pandas as pd\n",
    "import matplotlib.pyplot as plt"
   ]
  },
  {
   "cell_type": "code",
   "execution_count": 2,
   "id": "747d3cc6",
   "metadata": {},
   "outputs": [
    {
     "data": {
      "text/html": [
       "<div>\n",
       "<style scoped>\n",
       "    .dataframe tbody tr th:only-of-type {\n",
       "        vertical-align: middle;\n",
       "    }\n",
       "\n",
       "    .dataframe tbody tr th {\n",
       "        vertical-align: top;\n",
       "    }\n",
       "\n",
       "    .dataframe thead th {\n",
       "        text-align: right;\n",
       "    }\n",
       "</style>\n",
       "<table border=\"1\" class=\"dataframe\">\n",
       "  <thead>\n",
       "    <tr style=\"text-align: right;\">\n",
       "      <th></th>\n",
       "      <th>Age</th>\n",
       "      <th>EstimatedSalary</th>\n",
       "      <th>Purchased</th>\n",
       "    </tr>\n",
       "  </thead>\n",
       "  <tbody>\n",
       "    <tr>\n",
       "      <th>0</th>\n",
       "      <td>19</td>\n",
       "      <td>19000</td>\n",
       "      <td>0</td>\n",
       "    </tr>\n",
       "    <tr>\n",
       "      <th>1</th>\n",
       "      <td>35</td>\n",
       "      <td>20000</td>\n",
       "      <td>0</td>\n",
       "    </tr>\n",
       "    <tr>\n",
       "      <th>2</th>\n",
       "      <td>26</td>\n",
       "      <td>43000</td>\n",
       "      <td>0</td>\n",
       "    </tr>\n",
       "    <tr>\n",
       "      <th>3</th>\n",
       "      <td>27</td>\n",
       "      <td>57000</td>\n",
       "      <td>0</td>\n",
       "    </tr>\n",
       "    <tr>\n",
       "      <th>4</th>\n",
       "      <td>19</td>\n",
       "      <td>76000</td>\n",
       "      <td>0</td>\n",
       "    </tr>\n",
       "    <tr>\n",
       "      <th>...</th>\n",
       "      <td>...</td>\n",
       "      <td>...</td>\n",
       "      <td>...</td>\n",
       "    </tr>\n",
       "    <tr>\n",
       "      <th>395</th>\n",
       "      <td>46</td>\n",
       "      <td>41000</td>\n",
       "      <td>1</td>\n",
       "    </tr>\n",
       "    <tr>\n",
       "      <th>396</th>\n",
       "      <td>51</td>\n",
       "      <td>23000</td>\n",
       "      <td>1</td>\n",
       "    </tr>\n",
       "    <tr>\n",
       "      <th>397</th>\n",
       "      <td>50</td>\n",
       "      <td>20000</td>\n",
       "      <td>1</td>\n",
       "    </tr>\n",
       "    <tr>\n",
       "      <th>398</th>\n",
       "      <td>36</td>\n",
       "      <td>33000</td>\n",
       "      <td>0</td>\n",
       "    </tr>\n",
       "    <tr>\n",
       "      <th>399</th>\n",
       "      <td>49</td>\n",
       "      <td>36000</td>\n",
       "      <td>1</td>\n",
       "    </tr>\n",
       "  </tbody>\n",
       "</table>\n",
       "<p>400 rows × 3 columns</p>\n",
       "</div>"
      ],
      "text/plain": [
       "     Age  EstimatedSalary  Purchased\n",
       "0     19            19000          0\n",
       "1     35            20000          0\n",
       "2     26            43000          0\n",
       "3     27            57000          0\n",
       "4     19            76000          0\n",
       "..   ...              ...        ...\n",
       "395   46            41000          1\n",
       "396   51            23000          1\n",
       "397   50            20000          1\n",
       "398   36            33000          0\n",
       "399   49            36000          1\n",
       "\n",
       "[400 rows x 3 columns]"
      ]
     },
     "execution_count": 2,
     "metadata": {},
     "output_type": "execute_result"
    }
   ],
   "source": [
    "df = pd.read_csv('../datasets/Social_Network_Ads.csv')\n",
    "df"
   ]
  },
  {
   "cell_type": "code",
   "execution_count": 3,
   "id": "c9387152",
   "metadata": {},
   "outputs": [],
   "source": [
    "X = df[['Age','EstimatedSalary']]\n",
    "y = df['Purchased']"
   ]
  },
  {
   "cell_type": "code",
   "execution_count": 4,
   "id": "54fbb1da",
   "metadata": {},
   "outputs": [],
   "source": [
    "from sklearn.model_selection import train_test_split"
   ]
  },
  {
   "cell_type": "code",
   "execution_count": 5,
   "id": "9b8341ff",
   "metadata": {},
   "outputs": [],
   "source": [
    "X_train, X_test,y_train, y_test = train_test_split(X,y,test_size=0.25,random_state=18)"
   ]
  },
  {
   "cell_type": "code",
   "execution_count": 6,
   "id": "b824cb1a",
   "metadata": {},
   "outputs": [],
   "source": [
    "from sklearn.tree import DecisionTreeClassifier"
   ]
  },
  {
   "cell_type": "code",
   "execution_count": 7,
   "id": "54200a0d",
   "metadata": {},
   "outputs": [
    {
     "data": {
      "text/plain": [
       "0.95"
      ]
     },
     "execution_count": 7,
     "metadata": {},
     "output_type": "execute_result"
    }
   ],
   "source": [
    "model = DecisionTreeClassifier(random_state=100, max_depth=2)\n",
    "model.fit(X_train,y_train)\n",
    "model.score(X_test,y_test)"
   ]
  },
  {
   "cell_type": "code",
   "execution_count": 8,
   "id": "5cc41e14",
   "metadata": {},
   "outputs": [
    {
     "data": {
      "text/plain": [
       "0.9033333333333333"
      ]
     },
     "execution_count": 8,
     "metadata": {},
     "output_type": "execute_result"
    }
   ],
   "source": [
    "model.score(X_train,y_train)"
   ]
  },
  {
   "cell_type": "code",
   "execution_count": 9,
   "id": "1f3d164f",
   "metadata": {},
   "outputs": [
    {
     "data": {
      "text/plain": [
       "(10000, 2)"
      ]
     },
     "execution_count": 9,
     "metadata": {},
     "output_type": "execute_result"
    }
   ],
   "source": [
    "import numpy as np\n",
    "grid = []\n",
    "A = np.linspace(X_train['Age'].min(),X_train['Age'].max(),100)\n",
    "B = np.linspace(X_train['EstimatedSalary'].min(),X_train['EstimatedSalary'].max(),100)\n",
    "for age in A:\n",
    "    for sal in B:\n",
    "        grid.append([age,sal])\n",
    "grid = np.array(grid)\n",
    "grid.shape"
   ]
  },
  {
   "cell_type": "code",
   "execution_count": 10,
   "id": "e7227eb0",
   "metadata": {},
   "outputs": [
    {
     "name": "stderr",
     "output_type": "stream",
     "text": [
      "C:\\Users\\admin\\anaconda3\\lib\\site-packages\\sklearn\\base.py:450: UserWarning: X does not have valid feature names, but DecisionTreeClassifier was fitted with feature names\n",
      "  warnings.warn(\n"
     ]
    },
    {
     "data": {
      "text/plain": [
       "<matplotlib.collections.PathCollection at 0x1c7eca02a00>"
      ]
     },
     "execution_count": 10,
     "metadata": {},
     "output_type": "execute_result"
    },
    {
     "data": {
      "image/png": "[encoded data removed]",
      "text/plain": [
       "<Figure size 432x288 with 1 Axes>"
      ]
     },
     "metadata": {
      "needs_background": "light"
     },
     "output_type": "display_data"
    }
   ],
   "source": [
    "# Plotting DT boundry\n",
    "\n",
    "yp = model.predict(grid)\n",
    "\n",
    "class_0 = grid[yp==0]\n",
    "class_1 = grid[yp==1]\n",
    "\n",
    "plt.scatter(class_0[:,0], class_0[:,1], c='red', alpha=0.1)\n",
    "plt.scatter(class_1[:,0], class_1[:,1], c='blue',  alpha=0.1)\n",
    "\n",
    "# Plotting Train data with actual classes\n",
    "class_0 = X_train[y_train==0]\n",
    "class_1 = X_train[y_train==1]\n",
    "\n",
    "plt.scatter(class_0.iloc[:,0], class_0.iloc[:,1], c='red')\n",
    "plt.scatter(class_1.iloc[:,0], class_1.iloc[:,1], c='blue')"
   ]
  },
  {
   "cell_type": "code",
   "execution_count": 11,
   "id": "d485b6de",
   "metadata": {},
   "outputs": [
    {
     "name": "stderr",
     "output_type": "stream",
     "text": [
      "C:\\Users\\admin\\anaconda3\\lib\\site-packages\\sklearn\\base.py:450: UserWarning: X does not have valid feature names, but DecisionTreeClassifier was fitted with feature names\n",
      "  warnings.warn(\n"
     ]
    },
    {
     "data": {
      "text/plain": [
       "<matplotlib.collections.PathCollection at 0x1c7eca55400>"
      ]
     },
     "execution_count": 11,
     "metadata": {},
     "output_type": "execute_result"
    },
    {
     "data": {
      "image/png": "[encoded data removed]",
      "text/plain": [
       "<Figure size 432x288 with 1 Axes>"
      ]
     },
     "metadata": {
      "needs_background": "light"
     },
     "output_type": "display_data"
    }
   ],
   "source": [
    "# Plotting DT boundry\n",
    "\n",
    "yp = model.predict(grid)\n",
    "\n",
    "class_0 = grid[yp==0]\n",
    "class_1 = grid[yp==1]\n",
    "\n",
    "plt.scatter(class_0[:,0], class_0[:,1], c='red', alpha=0.1)\n",
    "plt.scatter(class_1[:,0], class_1[:,1], c='blue',  alpha=0.1)\n",
    "\n",
    "# Plotting Test data with actual classes\n",
    "class_0 = X_test[y_test==0]\n",
    "class_1 = X_test[y_test==1]\n",
    "\n",
    "plt.scatter(class_0.iloc[:,0], class_0.iloc[:,1], c='red')\n",
    "plt.scatter(class_1.iloc[:,0], class_1.iloc[:,1], c='blue')"
   ]
  },
  {
   "cell_type": "code",
   "execution_count": 12,
   "id": "8292e066",
   "metadata": {},
   "outputs": [
    {
     "name": "stdout",
     "output_type": "stream",
     "text": [
      "DEPTH: 1 MIN SAMPLES LEAF: 1 SCORE: 0.86\n",
      "DEPTH: 1 MIN SAMPLES LEAF: 2 SCORE: 0.86\n",
      "DEPTH: 1 MIN SAMPLES LEAF: 3 SCORE: 0.86\n",
      "DEPTH: 1 MIN SAMPLES LEAF: 4 SCORE: 0.86\n",
      "DEPTH: 2 MIN SAMPLES LEAF: 1 SCORE: 0.95\n",
      "DEPTH: 2 MIN SAMPLES LEAF: 2 SCORE: 0.95\n",
      "DEPTH: 2 MIN SAMPLES LEAF: 3 SCORE: 0.95\n",
      "DEPTH: 2 MIN SAMPLES LEAF: 4 SCORE: 0.95\n",
      "DEPTH: 3 MIN SAMPLES LEAF: 1 SCORE: 0.95\n",
      "DEPTH: 3 MIN SAMPLES LEAF: 2 SCORE: 0.95\n",
      "DEPTH: 3 MIN SAMPLES LEAF: 3 SCORE: 0.95\n",
      "DEPTH: 3 MIN SAMPLES LEAF: 4 SCORE: 0.95\n"
     ]
    }
   ],
   "source": [
    "depths = [1,2,3]\n",
    "leaf_samples = [1,2,3,4]\n",
    "for depth in depths:\n",
    "    for samples in leaf_samples:\n",
    "        model = DecisionTreeClassifier(random_state=100, max_depth=depth, min_samples_leaf=samples)\n",
    "        model.fit(X_train,y_train)\n",
    "        print('DEPTH:', depth, 'MIN SAMPLES LEAF:',samples, 'SCORE:',model.score(X_test,y_test))"
   ]
  },
  {
   "cell_type": "markdown",
   "id": "45396d08",
   "metadata": {},
   "source": [
    "# Hyperparameter Tuning"
   ]
  },
  {
   "cell_type": "code",
   "execution_count": 14,
   "id": "1c992e3d",
   "metadata": {},
   "outputs": [],
   "source": [
    "from sklearn.model_selection import GridSearchCV"
   ]
  },
  {
   "cell_type": "code",
   "execution_count": 15,
   "id": "ba90d27f",
   "metadata": {},
   "outputs": [
    {
     "name": "stdout",
     "output_type": "stream",
     "text": [
      "Fitting 4 folds for each of 80 candidates, totalling 320 fits\n",
      "[CV] END max_depth=1, min_samples_leaf=1, min_samples_split=3; total time=   0.0s\n",
      "[CV] END max_depth=1, min_samples_leaf=1, min_samples_split=3; total time=   0.0s\n",
      "[CV] END max_depth=1, min_samples_leaf=1, min_samples_split=3; total time=   0.0s\n",
      "[CV] END max_depth=1, min_samples_leaf=1, min_samples_split=3; total time=   0.0s\n",
      "[CV] END max_depth=1, min_samples_leaf=1, min_samples_split=4; total time=   0.0s\n",
      "[CV] END max_depth=1, min_samples_leaf=1, min_samples_split=4; total time=   0.0s\n",
      "[CV] END max_depth=1, min_samples_leaf=1, min_samples_split=4; total time=   0.0s\n",
      "[CV] END max_depth=1, min_samples_leaf=1, min_samples_split=4; total time=   0.0s\n",
      "[CV] END max_depth=1, min_samples_leaf=1, min_samples_split=5; total time=   0.0s\n",
      "[CV] END max_depth=1, min_samples_leaf=1, min_samples_split=5; total time=   0.0s\n",
      "[CV] END max_depth=1, min_samples_leaf=1, min_samples_split=5; total time=   0.0s\n",
      "[CV] END max_depth=1, min_samples_leaf=1, min_samples_split=5; total time=   0.0s\n",
      "[CV] END max_depth=1, min_samples_leaf=1, min_samples_split=6; total time=   0.0s\n",
      "[CV] END max_depth=1, min_samples_leaf=1, min_samples_split=6; total time=   0.0s\n",
      "[CV] END max_depth=1, min_samples_leaf=1, min_samples_split=6; total time=   0.0s\n",
      "[CV] END max_depth=1, min_samples_leaf=1, min_samples_split=6; total time=   0.0s\n",
      "[CV] END max_depth=1, min_samples_leaf=2, min_samples_split=3; total time=   0.0s\n",
      "[CV] END max_depth=1, min_samples_leaf=2, min_samples_split=3; total time=   0.0s\n",
      "[CV] END max_depth=1, min_samples_leaf=2, min_samples_split=3; total time=   0.0s\n",
      "[CV] END max_depth=1, min_samples_leaf=2, min_samples_split=3; total time=   0.0s\n",
      "[CV] END max_depth=1, min_samples_leaf=2, min_samples_split=4; total time=   0.0s\n",
      "[CV] END max_depth=1, min_samples_leaf=2, min_samples_split=4; total time=   0.0s\n",
      "[CV] END max_depth=1, min_samples_leaf=2, min_samples_split=4; total time=   0.0s\n",
      "[CV] END max_depth=1, min_samples_leaf=2, min_samples_split=4; total time=   0.0s\n",
      "[CV] END max_depth=1, min_samples_leaf=2, min_samples_split=5; total time=   0.0s\n",
      "[CV] END max_depth=1, min_samples_leaf=2, min_samples_split=5; total time=   0.0s\n",
      "[CV] END max_depth=1, min_samples_leaf=2, min_samples_split=5; total time=   0.0s\n",
      "[CV] END max_depth=1, min_samples_leaf=2, min_samples_split=5; total time=   0.0s\n",
      "[CV] END max_depth=1, min_samples_leaf=2, min_samples_split=6; total time=   0.0s\n",
      "[CV] END max_depth=1, min_samples_leaf=2, min_samples_split=6; total time=   0.0s\n",
      "[CV] END max_depth=1, min_samples_leaf=2, min_samples_split=6; total time=   0.0s\n",
      "[CV] END max_depth=1, min_samples_leaf=2, min_samples_split=6; total time=   0.0s\n",
      "[CV] END max_depth=1, min_samples_leaf=3, min_samples_split=3; total time=   0.0s\n",
      "[CV] END max_depth=1, min_samples_leaf=3, min_samples_split=3; total time=   0.0s\n",
      "[CV] END max_depth=1, min_samples_leaf=3, min_samples_split=3; total time=   0.0s\n",
      "[CV] END max_depth=1, min_samples_leaf=3, min_samples_split=3; total time=   0.0s\n",
      "[CV] END max_depth=1, min_samples_leaf=3, min_samples_split=4; total time=   0.0s\n",
      "[CV] END max_depth=1, min_samples_leaf=3, min_samples_split=4; total time=   0.0s\n",
      "[CV] END max_depth=1, min_samples_leaf=3, min_samples_split=4; total time=   0.0s\n",
      "[CV] END max_depth=1, min_samples_leaf=3, min_samples_split=4; total time=   0.0s\n",
      "[CV] END max_depth=1, min_samples_leaf=3, min_samples_split=5; total time=   0.0s\n",
      "[CV] END max_depth=1, min_samples_leaf=3, min_samples_split=5; total time=   0.0s\n",
      "[CV] END max_depth=1, min_samples_leaf=3, min_samples_split=5; total time=   0.0s\n",
      "[CV] END max_depth=1, min_samples_leaf=3, min_samples_split=5; total time=   0.0s\n",
      "[CV] END max_depth=1, min_samples_leaf=3, min_samples_split=6; total time=   0.0s\n",
      "[CV] END max_depth=1, min_samples_leaf=3, min_samples_split=6; total time=   0.0s\n",
      "[CV] END max_depth=1, min_samples_leaf=3, min_samples_split=6; total time=   0.0s\n",
      "[CV] END max_depth=1, min_samples_leaf=3, min_samples_split=6; total time=   0.0s\n",
      "[CV] END max_depth=1, min_samples_leaf=4, min_samples_split=3; total time=   0.0s\n",
      "[CV] END max_depth=1, min_samples_leaf=4, min_samples_split=3; total time=   0.0s\n",
      "[CV] END max_depth=1, min_samples_leaf=4, min_samples_split=3; total time=   0.0s\n",
      "[CV] END max_depth=1, min_samples_leaf=4, min_samples_split=3; total time=   0.0s\n",
      "[CV] END max_depth=1, min_samples_leaf=4, min_samples_split=4; total time=   0.0s\n",
      "[CV] END max_depth=1, min_samples_leaf=4, min_samples_split=4; total time=   0.0s\n",
      "[CV] END max_depth=1, min_samples_leaf=4, min_samples_split=4; total time=   0.0s\n",
      "[CV] END max_depth=1, min_samples_leaf=4, min_samples_split=4; total time=   0.0s\n",
      "[CV] END max_depth=1, min_samples_leaf=4, min_samples_split=5; total time=   0.0s\n",
      "[CV] END max_depth=1, min_samples_leaf=4, min_samples_split=5; total time=   0.0s\n",
      "[CV] END max_depth=1, min_samples_leaf=4, min_samples_split=5; total time=   0.0s\n",
      "[CV] END max_depth=1, min_samples_leaf=4, min_samples_split=5; total time=   0.0s\n",
      "[CV] END max_depth=1, min_samples_leaf=4, min_samples_split=6; total time=   0.0s\n",
      "[CV] END max_depth=1, min_samples_leaf=4, min_samples_split=6; total time=   0.0s\n",
      "[CV] END max_depth=1, min_samples_leaf=4, min_samples_split=6; total time=   0.0s\n",
      "[CV] END max_depth=1, min_samples_leaf=4, min_samples_split=6; total time=   0.0s\n",
      "[CV] END max_depth=2, min_samples_leaf=1, min_samples_split=3; total time=   0.0s\n",
      "[CV] END max_depth=2, min_samples_leaf=1, min_samples_split=3; total time=   0.0s\n",
      "[CV] END max_depth=2, min_samples_leaf=1, min_samples_split=3; total time=   0.0s\n",
      "[CV] END max_depth=2, min_samples_leaf=1, min_samples_split=3; total time=   0.0s\n",
      "[CV] END max_depth=2, min_samples_leaf=1, min_samples_split=4; total time=   0.0s\n",
      "[CV] END max_depth=2, min_samples_leaf=1, min_samples_split=4; total time=   0.0s\n",
      "[CV] END max_depth=2, min_samples_leaf=1, min_samples_split=4; total time=   0.0s\n",
      "[CV] END max_depth=2, min_samples_leaf=1, min_samples_split=4; total time=   0.0s\n",
      "[CV] END max_depth=2, min_samples_leaf=1, min_samples_split=5; total time=   0.0s\n",
      "[CV] END max_depth=2, min_samples_leaf=1, min_samples_split=5; total time=   0.0s\n",
      "[CV] END max_depth=2, min_samples_leaf=1, min_samples_split=5; total time=   0.0s\n",
      "[CV] END max_depth=2, min_samples_leaf=1, min_samples_split=5; total time=   0.0s\n",
      "[CV] END max_depth=2, min_samples_leaf=1, min_samples_split=6; total time=   0.0s\n",
      "[CV] END max_depth=2, min_samples_leaf=1, min_samples_split=6; total time=   0.0s\n",
      "[CV] END max_depth=2, min_samples_leaf=1, min_samples_split=6; total time=   0.0s\n",
      "[CV] END max_depth=2, min_samples_leaf=1, min_samples_split=6; total time=   0.0s\n",
      "[CV] END max_depth=2, min_samples_leaf=2, min_samples_split=3; total time=   0.0s\n",
      "[CV] END max_depth=2, min_samples_leaf=2, min_samples_split=3; total time=   0.0s\n",
      "[CV] END max_depth=2, min_samples_leaf=2, min_samples_split=3; total time=   0.0s\n",
      "[CV] END max_depth=2, min_samples_leaf=2, min_samples_split=3; total time=   0.0s\n",
      "[CV] END max_depth=2, min_samples_leaf=2, min_samples_split=4; total time=   0.0s\n",
      "[CV] END max_depth=2, min_samples_leaf=2, min_samples_split=4; total time=   0.0s\n",
      "[CV] END max_depth=2, min_samples_leaf=2, min_samples_split=4; total time=   0.0s\n",
      "[CV] END max_depth=2, min_samples_leaf=2, min_samples_split=4; total time=   0.0s\n",
      "[CV] END max_depth=2, min_samples_leaf=2, min_samples_split=5; total time=   0.0s\n",
      "[CV] END max_depth=2, min_samples_leaf=2, min_samples_split=5; total time=   0.0s\n",
      "[CV] END max_depth=2, min_samples_leaf=2, min_samples_split=5; total time=   0.0s\n",
      "[CV] END max_depth=2, min_samples_leaf=2, min_samples_split=5; total time=   0.0s\n",
      "[CV] END max_depth=2, min_samples_leaf=2, min_samples_split=6; total time=   0.0s\n",
      "[CV] END max_depth=2, min_samples_leaf=2, min_samples_split=6; total time=   0.0s\n",
      "[CV] END max_depth=2, min_samples_leaf=2, min_samples_split=6; total time=   0.0s\n",
      "[CV] END max_depth=2, min_samples_leaf=2, min_samples_split=6; total time=   0.0s\n",
      "[CV] END max_depth=2, min_samples_leaf=3, min_samples_split=3; total time=   0.0s\n",
      "[CV] END max_depth=2, min_samples_leaf=3, min_samples_split=3; total time=   0.0s\n",
      "[CV] END max_depth=2, min_samples_leaf=3, min_samples_split=3; total time=   0.0s\n",
      "[CV] END max_depth=2, min_samples_leaf=3, min_samples_split=3; total time=   0.0s\n",
      "[CV] END max_depth=2, min_samples_leaf=3, min_samples_split=4; total time=   0.0s\n",
      "[CV] END max_depth=2, min_samples_leaf=3, min_samples_split=4; total time=   0.0s\n",
      "[CV] END max_depth=2, min_samples_leaf=3, min_samples_split=4; total time=   0.0s\n",
      "[CV] END max_depth=2, min_samples_leaf=3, min_samples_split=4; total time=   0.0s\n"
     ]
    },
    {
     "name": "stdout",
     "output_type": "stream",
     "text": [
      "[CV] END max_depth=2, min_samples_leaf=3, min_samples_split=5; total time=   0.0s\n",
      "[CV] END max_depth=2, min_samples_leaf=3, min_samples_split=5; total time=   0.0s\n",
      "[CV] END max_depth=2, min_samples_leaf=3, min_samples_split=5; total time=   0.0s\n",
      "[CV] END max_depth=2, min_samples_leaf=3, min_samples_split=5; total time=   0.0s\n",
      "[CV] END max_depth=2, min_samples_leaf=3, min_samples_split=6; total time=   0.0s\n",
      "[CV] END max_depth=2, min_samples_leaf=3, min_samples_split=6; total time=   0.0s\n",
      "[CV] END max_depth=2, min_samples_leaf=3, min_samples_split=6; total time=   0.0s\n",
      "[CV] END max_depth=2, min_samples_leaf=3, min_samples_split=6; total time=   0.0s\n",
      "[CV] END max_depth=2, min_samples_leaf=4, min_samples_split=3; total time=   0.0s\n",
      "[CV] END max_depth=2, min_samples_leaf=4, min_samples_split=3; total time=   0.0s\n",
      "[CV] END max_depth=2, min_samples_leaf=4, min_samples_split=3; total time=   0.0s\n",
      "[CV] END max_depth=2, min_samples_leaf=4, min_samples_split=3; total time=   0.0s\n",
      "[CV] END max_depth=2, min_samples_leaf=4, min_samples_split=4; total time=   0.0s\n",
      "[CV] END max_depth=2, min_samples_leaf=4, min_samples_split=4; total time=   0.0s\n",
      "[CV] END max_depth=2, min_samples_leaf=4, min_samples_split=4; total time=   0.0s\n",
      "[CV] END max_depth=2, min_samples_leaf=4, min_samples_split=4; total time=   0.0s\n",
      "[CV] END max_depth=2, min_samples_leaf=4, min_samples_split=5; total time=   0.0s\n",
      "[CV] END max_depth=2, min_samples_leaf=4, min_samples_split=5; total time=   0.0s\n",
      "[CV] END max_depth=2, min_samples_leaf=4, min_samples_split=5; total time=   0.0s\n",
      "[CV] END max_depth=2, min_samples_leaf=4, min_samples_split=5; total time=   0.0s\n",
      "[CV] END max_depth=2, min_samples_leaf=4, min_samples_split=6; total time=   0.0s\n",
      "[CV] END max_depth=2, min_samples_leaf=4, min_samples_split=6; total time=   0.0s\n",
      "[CV] END max_depth=2, min_samples_leaf=4, min_samples_split=6; total time=   0.0s\n",
      "[CV] END max_depth=2, min_samples_leaf=4, min_samples_split=6; total time=   0.0s\n",
      "[CV] END max_depth=3, min_samples_leaf=1, min_samples_split=3; total time=   0.0s\n",
      "[CV] END max_depth=3, min_samples_leaf=1, min_samples_split=3; total time=   0.0s\n",
      "[CV] END max_depth=3, min_samples_leaf=1, min_samples_split=3; total time=   0.0s\n",
      "[CV] END max_depth=3, min_samples_leaf=1, min_samples_split=3; total time=   0.0s\n",
      "[CV] END max_depth=3, min_samples_leaf=1, min_samples_split=4; total time=   0.0s\n",
      "[CV] END max_depth=3, min_samples_leaf=1, min_samples_split=4; total time=   0.0s\n",
      "[CV] END max_depth=3, min_samples_leaf=1, min_samples_split=4; total time=   0.0s\n",
      "[CV] END max_depth=3, min_samples_leaf=1, min_samples_split=4; total time=   0.0s\n",
      "[CV] END max_depth=3, min_samples_leaf=1, min_samples_split=5; total time=   0.0s\n",
      "[CV] END max_depth=3, min_samples_leaf=1, min_samples_split=5; total time=   0.0s\n",
      "[CV] END max_depth=3, min_samples_leaf=1, min_samples_split=5; total time=   0.0s\n",
      "[CV] END max_depth=3, min_samples_leaf=1, min_samples_split=5; total time=   0.0s\n",
      "[CV] END max_depth=3, min_samples_leaf=1, min_samples_split=6; total time=   0.0s\n",
      "[CV] END max_depth=3, min_samples_leaf=1, min_samples_split=6; total time=   0.0s\n",
      "[CV] END max_depth=3, min_samples_leaf=1, min_samples_split=6; total time=   0.0s\n",
      "[CV] END max_depth=3, min_samples_leaf=1, min_samples_split=6; total time=   0.0s\n",
      "[CV] END max_depth=3, min_samples_leaf=2, min_samples_split=3; total time=   0.0s\n",
      "[CV] END max_depth=3, min_samples_leaf=2, min_samples_split=3; total time=   0.0s\n",
      "[CV] END max_depth=3, min_samples_leaf=2, min_samples_split=3; total time=   0.0s\n",
      "[CV] END max_depth=3, min_samples_leaf=2, min_samples_split=3; total time=   0.0s\n",
      "[CV] END max_depth=3, min_samples_leaf=2, min_samples_split=4; total time=   0.0s\n",
      "[CV] END max_depth=3, min_samples_leaf=2, min_samples_split=4; total time=   0.0s\n",
      "[CV] END max_depth=3, min_samples_leaf=2, min_samples_split=4; total time=   0.0s\n",
      "[CV] END max_depth=3, min_samples_leaf=2, min_samples_split=4; total time=   0.0s\n",
      "[CV] END max_depth=3, min_samples_leaf=2, min_samples_split=5; total time=   0.0s\n",
      "[CV] END max_depth=3, min_samples_leaf=2, min_samples_split=5; total time=   0.0s\n",
      "[CV] END max_depth=3, min_samples_leaf=2, min_samples_split=5; total time=   0.0s\n",
      "[CV] END max_depth=3, min_samples_leaf=2, min_samples_split=5; total time=   0.0s\n",
      "[CV] END max_depth=3, min_samples_leaf=2, min_samples_split=6; total time=   0.0s\n",
      "[CV] END max_depth=3, min_samples_leaf=2, min_samples_split=6; total time=   0.0s\n",
      "[CV] END max_depth=3, min_samples_leaf=2, min_samples_split=6; total time=   0.0s\n",
      "[CV] END max_depth=3, min_samples_leaf=2, min_samples_split=6; total time=   0.0s\n",
      "[CV] END max_depth=3, min_samples_leaf=3, min_samples_split=3; total time=   0.0s\n",
      "[CV] END max_depth=3, min_samples_leaf=3, min_samples_split=3; total time=   0.0s\n",
      "[CV] END max_depth=3, min_samples_leaf=3, min_samples_split=3; total time=   0.0s\n",
      "[CV] END max_depth=3, min_samples_leaf=3, min_samples_split=3; total time=   0.0s\n",
      "[CV] END max_depth=3, min_samples_leaf=3, min_samples_split=4; total time=   0.0s\n",
      "[CV] END max_depth=3, min_samples_leaf=3, min_samples_split=4; total time=   0.0s\n",
      "[CV] END max_depth=3, min_samples_leaf=3, min_samples_split=4; total time=   0.0s\n",
      "[CV] END max_depth=3, min_samples_leaf=3, min_samples_split=4; total time=   0.0s\n",
      "[CV] END max_depth=3, min_samples_leaf=3, min_samples_split=5; total time=   0.0s\n",
      "[CV] END max_depth=3, min_samples_leaf=3, min_samples_split=5; total time=   0.0s\n",
      "[CV] END max_depth=3, min_samples_leaf=3, min_samples_split=5; total time=   0.0s\n",
      "[CV] END max_depth=3, min_samples_leaf=3, min_samples_split=5; total time=   0.0s\n",
      "[CV] END max_depth=3, min_samples_leaf=3, min_samples_split=6; total time=   0.0s\n",
      "[CV] END max_depth=3, min_samples_leaf=3, min_samples_split=6; total time=   0.0s\n",
      "[CV] END max_depth=3, min_samples_leaf=3, min_samples_split=6; total time=   0.0s\n",
      "[CV] END max_depth=3, min_samples_leaf=3, min_samples_split=6; total time=   0.0s\n",
      "[CV] END max_depth=3, min_samples_leaf=4, min_samples_split=3; total time=   0.0s\n",
      "[CV] END max_depth=3, min_samples_leaf=4, min_samples_split=3; total time=   0.0s\n",
      "[CV] END max_depth=3, min_samples_leaf=4, min_samples_split=3; total time=   0.0s\n",
      "[CV] END max_depth=3, min_samples_leaf=4, min_samples_split=3; total time=   0.0s\n",
      "[CV] END max_depth=3, min_samples_leaf=4, min_samples_split=4; total time=   0.0s\n",
      "[CV] END max_depth=3, min_samples_leaf=4, min_samples_split=4; total time=   0.0s\n",
      "[CV] END max_depth=3, min_samples_leaf=4, min_samples_split=4; total time=   0.0s\n",
      "[CV] END max_depth=3, min_samples_leaf=4, min_samples_split=4; total time=   0.0s\n",
      "[CV] END max_depth=3, min_samples_leaf=4, min_samples_split=5; total time=   0.0s\n",
      "[CV] END max_depth=3, min_samples_leaf=4, min_samples_split=5; total time=   0.0s\n",
      "[CV] END max_depth=3, min_samples_leaf=4, min_samples_split=5; total time=   0.0s\n",
      "[CV] END max_depth=3, min_samples_leaf=4, min_samples_split=5; total time=   0.0s\n",
      "[CV] END max_depth=3, min_samples_leaf=4, min_samples_split=6; total time=   0.0s\n",
      "[CV] END max_depth=3, min_samples_leaf=4, min_samples_split=6; total time=   0.0s\n",
      "[CV] END max_depth=3, min_samples_leaf=4, min_samples_split=6; total time=   0.0s\n",
      "[CV] END max_depth=3, min_samples_leaf=4, min_samples_split=6; total time=   0.0s\n",
      "[CV] END max_depth=4, min_samples_leaf=1, min_samples_split=3; total time=   0.0s\n",
      "[CV] END max_depth=4, min_samples_leaf=1, min_samples_split=3; total time=   0.0s\n",
      "[CV] END max_depth=4, min_samples_leaf=1, min_samples_split=3; total time=   0.0s\n",
      "[CV] END max_depth=4, min_samples_leaf=1, min_samples_split=3; total time=   0.0s\n",
      "[CV] END max_depth=4, min_samples_leaf=1, min_samples_split=4; total time=   0.0s\n",
      "[CV] END max_depth=4, min_samples_leaf=1, min_samples_split=4; total time=   0.0s\n",
      "[CV] END max_depth=4, min_samples_leaf=1, min_samples_split=4; total time=   0.0s\n",
      "[CV] END max_depth=4, min_samples_leaf=1, min_samples_split=4; total time=   0.0s\n",
      "[CV] END max_depth=4, min_samples_leaf=1, min_samples_split=5; total time=   0.0s\n",
      "[CV] END max_depth=4, min_samples_leaf=1, min_samples_split=5; total time=   0.0s\n",
      "[CV] END max_depth=4, min_samples_leaf=1, min_samples_split=5; total time=   0.0s\n",
      "[CV] END max_depth=4, min_samples_leaf=1, min_samples_split=5; total time=   0.0s\n"
     ]
    },
    {
     "name": "stdout",
     "output_type": "stream",
     "text": [
      "[CV] END max_depth=4, min_samples_leaf=1, min_samples_split=6; total time=   0.0s\n",
      "[CV] END max_depth=4, min_samples_leaf=1, min_samples_split=6; total time=   0.0s\n",
      "[CV] END max_depth=4, min_samples_leaf=1, min_samples_split=6; total time=   0.0s\n",
      "[CV] END max_depth=4, min_samples_leaf=1, min_samples_split=6; total time=   0.0s\n",
      "[CV] END max_depth=4, min_samples_leaf=2, min_samples_split=3; total time=   0.0s\n",
      "[CV] END max_depth=4, min_samples_leaf=2, min_samples_split=3; total time=   0.0s\n",
      "[CV] END max_depth=4, min_samples_leaf=2, min_samples_split=3; total time=   0.0s\n",
      "[CV] END max_depth=4, min_samples_leaf=2, min_samples_split=3; total time=   0.0s\n",
      "[CV] END max_depth=4, min_samples_leaf=2, min_samples_split=4; total time=   0.0s\n",
      "[CV] END max_depth=4, min_samples_leaf=2, min_samples_split=4; total time=   0.0s\n",
      "[CV] END max_depth=4, min_samples_leaf=2, min_samples_split=4; total time=   0.0s\n",
      "[CV] END max_depth=4, min_samples_leaf=2, min_samples_split=4; total time=   0.0s\n",
      "[CV] END max_depth=4, min_samples_leaf=2, min_samples_split=5; total time=   0.0s\n",
      "[CV] END max_depth=4, min_samples_leaf=2, min_samples_split=5; total time=   0.0s\n",
      "[CV] END max_depth=4, min_samples_leaf=2, min_samples_split=5; total time=   0.0s\n",
      "[CV] END max_depth=4, min_samples_leaf=2, min_samples_split=5; total time=   0.0s\n",
      "[CV] END max_depth=4, min_samples_leaf=2, min_samples_split=6; total time=   0.0s\n",
      "[CV] END max_depth=4, min_samples_leaf=2, min_samples_split=6; total time=   0.0s\n",
      "[CV] END max_depth=4, min_samples_leaf=2, min_samples_split=6; total time=   0.0s\n",
      "[CV] END max_depth=4, min_samples_leaf=2, min_samples_split=6; total time=   0.0s\n",
      "[CV] END max_depth=4, min_samples_leaf=3, min_samples_split=3; total time=   0.0s\n",
      "[CV] END max_depth=4, min_samples_leaf=3, min_samples_split=3; total time=   0.0s\n",
      "[CV] END max_depth=4, min_samples_leaf=3, min_samples_split=3; total time=   0.0s\n",
      "[CV] END max_depth=4, min_samples_leaf=3, min_samples_split=3; total time=   0.0s\n",
      "[CV] END max_depth=4, min_samples_leaf=3, min_samples_split=4; total time=   0.0s\n",
      "[CV] END max_depth=4, min_samples_leaf=3, min_samples_split=4; total time=   0.0s\n",
      "[CV] END max_depth=4, min_samples_leaf=3, min_samples_split=4; total time=   0.0s\n",
      "[CV] END max_depth=4, min_samples_leaf=3, min_samples_split=4; total time=   0.0s\n",
      "[CV] END max_depth=4, min_samples_leaf=3, min_samples_split=5; total time=   0.0s\n",
      "[CV] END max_depth=4, min_samples_leaf=3, min_samples_split=5; total time=   0.0s\n",
      "[CV] END max_depth=4, min_samples_leaf=3, min_samples_split=5; total time=   0.0s\n",
      "[CV] END max_depth=4, min_samples_leaf=3, min_samples_split=5; total time=   0.0s\n",
      "[CV] END max_depth=4, min_samples_leaf=3, min_samples_split=6; total time=   0.0s\n",
      "[CV] END max_depth=4, min_samples_leaf=3, min_samples_split=6; total time=   0.0s\n",
      "[CV] END max_depth=4, min_samples_leaf=3, min_samples_split=6; total time=   0.0s\n",
      "[CV] END max_depth=4, min_samples_leaf=3, min_samples_split=6; total time=   0.0s\n",
      "[CV] END max_depth=4, min_samples_leaf=4, min_samples_split=3; total time=   0.0s\n",
      "[CV] END max_depth=4, min_samples_leaf=4, min_samples_split=3; total time=   0.0s\n",
      "[CV] END max_depth=4, min_samples_leaf=4, min_samples_split=3; total time=   0.0s\n",
      "[CV] END max_depth=4, min_samples_leaf=4, min_samples_split=3; total time=   0.0s\n",
      "[CV] END max_depth=4, min_samples_leaf=4, min_samples_split=4; total time=   0.0s\n",
      "[CV] END max_depth=4, min_samples_leaf=4, min_samples_split=4; total time=   0.0s\n",
      "[CV] END max_depth=4, min_samples_leaf=4, min_samples_split=4; total time=   0.0s\n",
      "[CV] END max_depth=4, min_samples_leaf=4, min_samples_split=4; total time=   0.0s\n",
      "[CV] END max_depth=4, min_samples_leaf=4, min_samples_split=5; total time=   0.0s\n",
      "[CV] END max_depth=4, min_samples_leaf=4, min_samples_split=5; total time=   0.0s\n",
      "[CV] END max_depth=4, min_samples_leaf=4, min_samples_split=5; total time=   0.0s\n",
      "[CV] END max_depth=4, min_samples_leaf=4, min_samples_split=5; total time=   0.0s\n",
      "[CV] END max_depth=4, min_samples_leaf=4, min_samples_split=6; total time=   0.0s\n",
      "[CV] END max_depth=4, min_samples_leaf=4, min_samples_split=6; total time=   0.0s\n",
      "[CV] END max_depth=4, min_samples_leaf=4, min_samples_split=6; total time=   0.0s\n",
      "[CV] END max_depth=4, min_samples_leaf=4, min_samples_split=6; total time=   0.0s\n",
      "[CV] END max_depth=5, min_samples_leaf=1, min_samples_split=3; total time=   0.0s\n",
      "[CV] END max_depth=5, min_samples_leaf=1, min_samples_split=3; total time=   0.0s\n",
      "[CV] END max_depth=5, min_samples_leaf=1, min_samples_split=3; total time=   0.0s\n",
      "[CV] END max_depth=5, min_samples_leaf=1, min_samples_split=3; total time=   0.0s\n",
      "[CV] END max_depth=5, min_samples_leaf=1, min_samples_split=4; total time=   0.0s\n",
      "[CV] END max_depth=5, min_samples_leaf=1, min_samples_split=4; total time=   0.0s\n",
      "[CV] END max_depth=5, min_samples_leaf=1, min_samples_split=4; total time=   0.0s\n",
      "[CV] END max_depth=5, min_samples_leaf=1, min_samples_split=4; total time=   0.0s\n",
      "[CV] END max_depth=5, min_samples_leaf=1, min_samples_split=5; total time=   0.0s\n",
      "[CV] END max_depth=5, min_samples_leaf=1, min_samples_split=5; total time=   0.0s\n",
      "[CV] END max_depth=5, min_samples_leaf=1, min_samples_split=5; total time=   0.0s\n",
      "[CV] END max_depth=5, min_samples_leaf=1, min_samples_split=5; total time=   0.0s\n",
      "[CV] END max_depth=5, min_samples_leaf=1, min_samples_split=6; total time=   0.0s\n",
      "[CV] END max_depth=5, min_samples_leaf=1, min_samples_split=6; total time=   0.0s\n",
      "[CV] END max_depth=5, min_samples_leaf=1, min_samples_split=6; total time=   0.0s\n",
      "[CV] END max_depth=5, min_samples_leaf=1, min_samples_split=6; total time=   0.0s\n",
      "[CV] END max_depth=5, min_samples_leaf=2, min_samples_split=3; total time=   0.0s\n",
      "[CV] END max_depth=5, min_samples_leaf=2, min_samples_split=3; total time=   0.0s\n",
      "[CV] END max_depth=5, min_samples_leaf=2, min_samples_split=3; total time=   0.0s\n",
      "[CV] END max_depth=5, min_samples_leaf=2, min_samples_split=3; total time=   0.0s\n",
      "[CV] END max_depth=5, min_samples_leaf=2, min_samples_split=4; total time=   0.0s\n",
      "[CV] END max_depth=5, min_samples_leaf=2, min_samples_split=4; total time=   0.0s\n",
      "[CV] END max_depth=5, min_samples_leaf=2, min_samples_split=4; total time=   0.0s\n",
      "[CV] END max_depth=5, min_samples_leaf=2, min_samples_split=4; total time=   0.0s\n",
      "[CV] END max_depth=5, min_samples_leaf=2, min_samples_split=5; total time=   0.0s\n",
      "[CV] END max_depth=5, min_samples_leaf=2, min_samples_split=5; total time=   0.0s\n",
      "[CV] END max_depth=5, min_samples_leaf=2, min_samples_split=5; total time=   0.0s\n",
      "[CV] END max_depth=5, min_samples_leaf=2, min_samples_split=5; total time=   0.0s\n",
      "[CV] END max_depth=5, min_samples_leaf=2, min_samples_split=6; total time=   0.0s\n",
      "[CV] END max_depth=5, min_samples_leaf=2, min_samples_split=6; total time=   0.0s\n",
      "[CV] END max_depth=5, min_samples_leaf=2, min_samples_split=6; total time=   0.0s\n",
      "[CV] END max_depth=5, min_samples_leaf=2, min_samples_split=6; total time=   0.0s\n",
      "[CV] END max_depth=5, min_samples_leaf=3, min_samples_split=3; total time=   0.0s\n",
      "[CV] END max_depth=5, min_samples_leaf=3, min_samples_split=3; total time=   0.0s\n",
      "[CV] END max_depth=5, min_samples_leaf=3, min_samples_split=3; total time=   0.0s\n",
      "[CV] END max_depth=5, min_samples_leaf=3, min_samples_split=3; total time=   0.0s\n",
      "[CV] END max_depth=5, min_samples_leaf=3, min_samples_split=4; total time=   0.0s\n",
      "[CV] END max_depth=5, min_samples_leaf=3, min_samples_split=4; total time=   0.0s\n",
      "[CV] END max_depth=5, min_samples_leaf=3, min_samples_split=4; total time=   0.0s\n",
      "[CV] END max_depth=5, min_samples_leaf=3, min_samples_split=4; total time=   0.0s\n",
      "[CV] END max_depth=5, min_samples_leaf=3, min_samples_split=5; total time=   0.0s\n",
      "[CV] END max_depth=5, min_samples_leaf=3, min_samples_split=5; total time=   0.0s\n",
      "[CV] END max_depth=5, min_samples_leaf=3, min_samples_split=5; total time=   0.0s\n",
      "[CV] END max_depth=5, min_samples_leaf=3, min_samples_split=5; total time=   0.0s\n",
      "[CV] END max_depth=5, min_samples_leaf=3, min_samples_split=6; total time=   0.0s\n",
      "[CV] END max_depth=5, min_samples_leaf=3, min_samples_split=6; total time=   0.0s\n",
      "[CV] END max_depth=5, min_samples_leaf=3, min_samples_split=6; total time=   0.0s\n",
      "[CV] END max_depth=5, min_samples_leaf=3, min_samples_split=6; total time=   0.0s\n",
      "[CV] END max_depth=5, min_samples_leaf=4, min_samples_split=3; total time=   0.0s\n",
      "[CV] END max_depth=5, min_samples_leaf=4, min_samples_split=3; total time=   0.0s\n",
      "[CV] END max_depth=5, min_samples_leaf=4, min_samples_split=3; total time=   0.0s\n",
      "[CV] END max_depth=5, min_samples_leaf=4, min_samples_split=3; total time=   0.0s\n"
     ]
    },
    {
     "name": "stdout",
     "output_type": "stream",
     "text": [
      "[CV] END max_depth=5, min_samples_leaf=4, min_samples_split=4; total time=   0.0s\n",
      "[CV] END max_depth=5, min_samples_leaf=4, min_samples_split=4; total time=   0.0s\n",
      "[CV] END max_depth=5, min_samples_leaf=4, min_samples_split=4; total time=   0.0s\n",
      "[CV] END max_depth=5, min_samples_leaf=4, min_samples_split=4; total time=   0.0s\n",
      "[CV] END max_depth=5, min_samples_leaf=4, min_samples_split=5; total time=   0.0s\n",
      "[CV] END max_depth=5, min_samples_leaf=4, min_samples_split=5; total time=   0.0s\n",
      "[CV] END max_depth=5, min_samples_leaf=4, min_samples_split=5; total time=   0.0s\n",
      "[CV] END max_depth=5, min_samples_leaf=4, min_samples_split=5; total time=   0.0s\n",
      "[CV] END max_depth=5, min_samples_leaf=4, min_samples_split=6; total time=   0.0s\n",
      "[CV] END max_depth=5, min_samples_leaf=4, min_samples_split=6; total time=   0.0s\n",
      "[CV] END max_depth=5, min_samples_leaf=4, min_samples_split=6; total time=   0.0s\n",
      "[CV] END max_depth=5, min_samples_leaf=4, min_samples_split=6; total time=   0.0s\n"
     ]
    },
    {
     "data": {
      "text/plain": [
       "GridSearchCV(cv=4, estimator=DecisionTreeClassifier(random_state=100),\n",
       "             param_grid={'max_depth': [1, 2, 3, 4, 5],\n",
       "                         'min_samples_leaf': [1, 2, 3, 4],\n",
       "                         'min_samples_split': [3, 4, 5, 6]},\n",
       "             verbose=2)"
      ]
     },
     "execution_count": 15,
     "metadata": {},
     "output_type": "execute_result"
    }
   ],
   "source": [
    "params = {'max_depth':[1,2,3,4,5]\n",
    "          ,'min_samples_leaf':[1,2,3,4],\n",
    "          'min_samples_split':[3,4,5,6]}\n",
    "grid_cv = GridSearchCV(DecisionTreeClassifier(random_state=100),\n",
    "                       param_grid=params,cv=4, verbose=2)\n",
    "grid_cv.fit(X,y)"
   ]
  },
  {
   "cell_type": "code",
   "execution_count": 16,
   "id": "151be804",
   "metadata": {},
   "outputs": [
    {
     "data": {
      "text/plain": [
       "0.8925"
      ]
     },
     "execution_count": 16,
     "metadata": {},
     "output_type": "execute_result"
    }
   ],
   "source": [
    "grid_cv.best_score_"
   ]
  },
  {
   "cell_type": "code",
   "execution_count": 17,
   "id": "34505308",
   "metadata": {},
   "outputs": [
    {
     "data": {
      "text/plain": [
       "DecisionTreeClassifier(max_depth=2, min_samples_split=3, random_state=100)"
      ]
     },
     "execution_count": 17,
     "metadata": {},
     "output_type": "execute_result"
    }
   ],
   "source": [
    "grid_cv.best_estimator_"
   ]
  },
  {
   "cell_type": "code",
   "execution_count": 18,
   "id": "621f2049",
   "metadata": {},
   "outputs": [
    {
     "data": {
      "text/plain": [
       "{'max_depth': 2, 'min_samples_leaf': 1, 'min_samples_split': 3}"
      ]
     },
     "execution_count": 18,
     "metadata": {},
     "output_type": "execute_result"
    }
   ],
   "source": [
    "grid_cv.best_params_"
   ]
  },
  {
   "cell_type": "code",
   "execution_count": 21,
   "id": "04af3607",
   "metadata": {},
   "outputs": [
    {
     "data": {
      "text/plain": [
       "DecisionTreeClassifier(max_depth=2, min_samples_split=3, random_state=100)"
      ]
     },
     "execution_count": 21,
     "metadata": {},
     "output_type": "execute_result"
    }
   ],
   "source": [
    "final_model = DecisionTreeClassifier(max_depth=2, min_samples_leaf=1,min_samples_split=3,random_state=100)\n",
    "final_model.fit(X,y)"
   ]
  },
  {
   "cell_type": "code",
   "execution_count": 22,
   "id": "809c297d",
   "metadata": {},
   "outputs": [],
   "source": [
    "import pickle"
   ]
  },
  {
   "cell_type": "code",
   "execution_count": 23,
   "id": "8a53be8e",
   "metadata": {},
   "outputs": [],
   "source": [
    "pickle.dump(final_model ,open('mymodel.pkl','wb'))"
   ]
  },
  {
   "cell_type": "code",
   "execution_count": 24,
   "id": "6afbb15f",
   "metadata": {},
   "outputs": [],
   "source": [
    "import pickle"
   ]
  },
  {
   "cell_type": "code",
   "execution_count": null,
   "id": "85e2eaf8",
   "metadata": {},
   "outputs": [],
   "source": []
  },
  {
   "cell_type": "code",
   "execution_count": null,
   "id": "fc50f965",
   "metadata": {},
   "outputs": [],
   "source": []
  }
 ],
 "metadata": {
  "kernelspec": {
   "display_name": "Python 3 (ipykernel)",
   "language": "python",
   "name": "python3"
  },
  "language_info": {
   "codemirror_mode": {
    "name": "ipython",
    "version": 3
   },
   "file_extension": ".py",
   "mimetype": "text/x-python",
   "name": "python",
   "nbconvert_exporter": "python",
   "pygments_lexer": "ipython3",
   "version": "3.9.12"
  }
 },
 "nbformat": 4,
 "nbformat_minor": 5
}
